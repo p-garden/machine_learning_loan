{
 "cells": [
  {
   "cell_type": "markdown",
   "id": "5760ecc6-ced0-45a7-9b92-49b47be4bc27",
   "metadata": {},
   "source": [
    "## PCA를 이용한 차원축소 (Dimensionality Reduction)"
   ]
  },
  {
   "cell_type": "markdown",
   "id": "98c82b1c-9ff2-4091-a27d-81b10a3633d3",
   "metadata": {},
   "source": [
    "### 1. 데이터 가져오기"
   ]
  },
  {
   "cell_type": "code",
   "execution_count": 3,
   "id": "50a64b48-41f4-4ca5-ad48-5eb99170d857",
   "metadata": {},
   "outputs": [
    {
     "data": {
      "text/html": [
       "<div>\n",
       "<style scoped>\n",
       "    .dataframe tbody tr th:only-of-type {\n",
       "        vertical-align: middle;\n",
       "    }\n",
       "\n",
       "    .dataframe tbody tr th {\n",
       "        vertical-align: top;\n",
       "    }\n",
       "\n",
       "    .dataframe thead th {\n",
       "        text-align: right;\n",
       "    }\n",
       "</style>\n",
       "<table border=\"1\" class=\"dataframe\">\n",
       "  <thead>\n",
       "    <tr style=\"text-align: right;\">\n",
       "      <th></th>\n",
       "      <th>Class label</th>\n",
       "      <th>Alcohol</th>\n",
       "      <th>Malic acid</th>\n",
       "      <th>Ash</th>\n",
       "      <th>Alcalinity of ash</th>\n",
       "      <th>Magnesium</th>\n",
       "      <th>Total phenols</th>\n",
       "      <th>Flavanoids</th>\n",
       "      <th>Nonflavanoid phenols</th>\n",
       "      <th>Proanthocyanins</th>\n",
       "      <th>Color intensity</th>\n",
       "      <th>Hue</th>\n",
       "      <th>OD280/OD315 of diluted wines</th>\n",
       "      <th>Proline</th>\n",
       "    </tr>\n",
       "  </thead>\n",
       "  <tbody>\n",
       "    <tr>\n",
       "      <th>0</th>\n",
       "      <td>1</td>\n",
       "      <td>14.23</td>\n",
       "      <td>1.71</td>\n",
       "      <td>2.43</td>\n",
       "      <td>15.6</td>\n",
       "      <td>127</td>\n",
       "      <td>2.80</td>\n",
       "      <td>3.06</td>\n",
       "      <td>0.28</td>\n",
       "      <td>2.29</td>\n",
       "      <td>5.64</td>\n",
       "      <td>1.04</td>\n",
       "      <td>3.92</td>\n",
       "      <td>1065</td>\n",
       "    </tr>\n",
       "    <tr>\n",
       "      <th>1</th>\n",
       "      <td>1</td>\n",
       "      <td>13.20</td>\n",
       "      <td>1.78</td>\n",
       "      <td>2.14</td>\n",
       "      <td>11.2</td>\n",
       "      <td>100</td>\n",
       "      <td>2.65</td>\n",
       "      <td>2.76</td>\n",
       "      <td>0.26</td>\n",
       "      <td>1.28</td>\n",
       "      <td>4.38</td>\n",
       "      <td>1.05</td>\n",
       "      <td>3.40</td>\n",
       "      <td>1050</td>\n",
       "    </tr>\n",
       "    <tr>\n",
       "      <th>2</th>\n",
       "      <td>1</td>\n",
       "      <td>13.16</td>\n",
       "      <td>2.36</td>\n",
       "      <td>2.67</td>\n",
       "      <td>18.6</td>\n",
       "      <td>101</td>\n",
       "      <td>2.80</td>\n",
       "      <td>3.24</td>\n",
       "      <td>0.30</td>\n",
       "      <td>2.81</td>\n",
       "      <td>5.68</td>\n",
       "      <td>1.03</td>\n",
       "      <td>3.17</td>\n",
       "      <td>1185</td>\n",
       "    </tr>\n",
       "    <tr>\n",
       "      <th>3</th>\n",
       "      <td>1</td>\n",
       "      <td>14.37</td>\n",
       "      <td>1.95</td>\n",
       "      <td>2.50</td>\n",
       "      <td>16.8</td>\n",
       "      <td>113</td>\n",
       "      <td>3.85</td>\n",
       "      <td>3.49</td>\n",
       "      <td>0.24</td>\n",
       "      <td>2.18</td>\n",
       "      <td>7.80</td>\n",
       "      <td>0.86</td>\n",
       "      <td>3.45</td>\n",
       "      <td>1480</td>\n",
       "    </tr>\n",
       "    <tr>\n",
       "      <th>4</th>\n",
       "      <td>1</td>\n",
       "      <td>13.24</td>\n",
       "      <td>2.59</td>\n",
       "      <td>2.87</td>\n",
       "      <td>21.0</td>\n",
       "      <td>118</td>\n",
       "      <td>2.80</td>\n",
       "      <td>2.69</td>\n",
       "      <td>0.39</td>\n",
       "      <td>1.82</td>\n",
       "      <td>4.32</td>\n",
       "      <td>1.04</td>\n",
       "      <td>2.93</td>\n",
       "      <td>735</td>\n",
       "    </tr>\n",
       "  </tbody>\n",
       "</table>\n",
       "</div>"
      ],
      "text/plain": [
       "   Class label  Alcohol  Malic acid   Ash  Alcalinity of ash  Magnesium  \\\n",
       "0            1    14.23        1.71  2.43               15.6        127   \n",
       "1            1    13.20        1.78  2.14               11.2        100   \n",
       "2            1    13.16        2.36  2.67               18.6        101   \n",
       "3            1    14.37        1.95  2.50               16.8        113   \n",
       "4            1    13.24        2.59  2.87               21.0        118   \n",
       "\n",
       "   Total phenols  Flavanoids  Nonflavanoid phenols  Proanthocyanins  \\\n",
       "0           2.80        3.06                  0.28             2.29   \n",
       "1           2.65        2.76                  0.26             1.28   \n",
       "2           2.80        3.24                  0.30             2.81   \n",
       "3           3.85        3.49                  0.24             2.18   \n",
       "4           2.80        2.69                  0.39             1.82   \n",
       "\n",
       "   Color intensity   Hue  OD280/OD315 of diluted wines  Proline  \n",
       "0             5.64  1.04                          3.92     1065  \n",
       "1             4.38  1.05                          3.40     1050  \n",
       "2             5.68  1.03                          3.17     1185  \n",
       "3             7.80  0.86                          3.45     1480  \n",
       "4             4.32  1.04                          2.93      735  "
      ]
     },
     "execution_count": 3,
     "metadata": {},
     "output_type": "execute_result"
    }
   ],
   "source": [
    "import pandas as pd\n",
    "\n",
    "df_wine = pd.read_csv('https://archive.ics.uci.edu/ml/'\n",
    "                      'machine-learning-databases/wine/wine.data',\n",
    "                      header=None)\n",
    "#load_wine과 같은 데이터\n",
    "# if the Wine dataset is temporarily unavailable from the\n",
    "# UCI machine learning repository, un-comment the following line\n",
    "# of code to load the dataset from a local path:\n",
    "\n",
    "# df_wine = pd.read_csv('wine.data', header=None)\n",
    "\n",
    "df_wine.columns = ['Class label', 'Alcohol', 'Malic acid', 'Ash',\n",
    "                   'Alcalinity of ash', 'Magnesium', 'Total phenols',\n",
    "                   'Flavanoids', 'Nonflavanoid phenols', 'Proanthocyanins',\n",
    "                   'Color intensity', 'Hue',\n",
    "                   'OD280/OD315 of diluted wines', 'Proline']\n",
    "\n",
    "df_wine.head()"
   ]
  },
  {
   "cell_type": "markdown",
   "id": "3d48eab2-a49e-4988-a055-47c924f133cc",
   "metadata": {},
   "source": [
    "### 2. train_test_split을 활용한 train/test 데이터 정의"
   ]
  },
  {
   "cell_type": "code",
   "execution_count": 4,
   "id": "82379ea5-89e7-4b30-adcb-1cf539931971",
   "metadata": {},
   "outputs": [],
   "source": [
    "from sklearn.model_selection import train_test_split\n",
    "\n",
    "X, y = df_wine.iloc[:, 1:].values, df_wine.iloc[:, 0].values\n",
    "\n",
    "X_train, X_test, y_train, y_test = \n",
    "    train_test_split(X, y, test_size=0.3, \n",
    "                     stratify=y,\n",
    "                     random_state=0)"
   ]
  },
  {
   "cell_type": "markdown",
   "id": "3ecbbbe8-a636-45c2-870c-d31037969a22",
   "metadata": {},
   "source": [
    "### 3. 데이터 Standardization"
   ]
  },
  {
   "cell_type": "code",
   "execution_count": 5,
   "id": "ef1f473b-9387-4b53-b9d5-e52849a11afe",
   "metadata": {},
   "outputs": [],
   "source": [
    "from sklearn.preprocessing import StandardScaler\n",
    "\n",
    "sc = StandardScaler()\n",
    "X_train_std = sc.fit_transform(X_train) #x_train에대해 학습시키도 변환\n",
    "X_test_std = sc.transform(X_test) #위에서 구한 분산에맞춰 변환"
   ]
  },
  {
   "cell_type": "markdown",
   "id": "8ecbca97-d24c-4ecb-95ee-2596eb9d0c5f",
   "metadata": {},
   "source": [
    "### 4. 공분산 행렬 구하기 및 공분산행렬의 Eigendecomposition"
   ]
  },
  {
   "cell_type": "code",
   "execution_count": 6,
   "id": "6ba8faff-0bbb-475f-b232-c28fb4be1c5b",
   "metadata": {},
   "outputs": [
    {
     "name": "stdout",
     "output_type": "stream",
     "text": [
      "\n",
      "Eigenvalues \n",
      "[4.84274532 2.41602459 1.54845825 0.96120438 0.84166161 0.6620634\n",
      " 0.51828472 0.34650377 0.3131368  0.10754642 0.21357215 0.15362835\n",
      " 0.1808613 ]\n",
      "\n",
      "Eigenvectors \n",
      "[[-1.37242175e-01  5.03034778e-01 -1.37748734e-01 -3.29610003e-03\n",
      "   2.90625226e-01 -2.99096847e-01 -7.90529293e-02  3.68176414e-01\n",
      "   3.98377017e-01 -9.44869777e-02  3.74638877e-01 -1.27834515e-01\n",
      "   2.62834263e-01]\n",
      " [ 2.47243265e-01  1.64871190e-01  9.61503863e-02  5.62646692e-01\n",
      "  -8.95378697e-02 -6.27036396e-01  2.74002014e-01  1.25775752e-02\n",
      "  -1.10458230e-01  2.63652406e-02 -1.37405597e-01  8.06401578e-02\n",
      "  -2.66769211e-01]\n",
      " [-2.54515927e-02  2.44564761e-01  6.77775667e-01 -1.08977111e-01\n",
      "   1.60834991e-01 -3.89128239e-04 -1.32328045e-01 -1.77578177e-01\n",
      "  -3.82496856e-01  1.42747511e-01  4.61583035e-01  1.67924873e-02\n",
      "  -1.15542548e-01]\n",
      " [ 2.06945084e-01 -1.13529045e-01  6.25040550e-01  3.38187002e-02\n",
      "  -5.15873402e-02  4.05836452e-02 -2.23999097e-01  4.40592110e-01\n",
      "   2.43373853e-01 -1.30485780e-01 -4.18953989e-01 -1.10845657e-01\n",
      "   1.99483410e-01]\n",
      " [-1.54365821e-01  2.89745182e-01  1.96135481e-01 -3.67511070e-01\n",
      "  -6.76487073e-01 -6.57772614e-02  4.05268966e-01 -1.16617503e-01\n",
      "   2.58982359e-01 -6.76080782e-02  1.00470630e-02  7.93879562e-02\n",
      "   2.89018810e-02]\n",
      " [-3.93769523e-01  5.08010391e-02  1.40310572e-01  2.40245127e-01\n",
      "   1.18511144e-01  5.89776247e-02  3.47419412e-02 -3.50192127e-01\n",
      "   3.42312860e-01  4.59917661e-01 -2.21254241e-01 -4.91459313e-01\n",
      "  -6.63868598e-02]\n",
      " [-4.17351064e-01 -2.28733792e-02  1.17053859e-01  1.87053299e-01\n",
      "   1.07100349e-01  3.01103180e-02 -4.17835724e-02 -2.18718183e-01\n",
      "   3.61231642e-02 -8.14583947e-01 -4.17513600e-02 -5.03074004e-02\n",
      "  -2.13349079e-01]\n",
      " [ 3.05728961e-01  9.04888470e-02  1.31217777e-01 -2.29262234e-02\n",
      "   5.07581610e-01  2.71728086e-01  6.31145686e-01 -1.97129425e-01\n",
      "   1.71436883e-01 -9.57480885e-02 -8.87569452e-02  1.75328030e-01\n",
      "   1.86391279e-01]\n",
      " [-3.06683469e-01  8.35232677e-03  3.04309008e-02  4.96262330e-01\n",
      "  -2.01634619e-01  4.39997519e-01  3.23122775e-01  4.33055871e-01\n",
      "  -2.44370210e-01  6.72468934e-02  1.99921861e-01 -3.67595797e-03\n",
      "   1.68082985e-01]\n",
      " [ 7.55406578e-02  5.49775805e-01 -7.99299713e-02  1.06482939e-01\n",
      "  -5.73607091e-03  4.11743459e-01 -2.69082623e-01  6.68411823e-02\n",
      "   1.55514919e-01  8.73336218e-02 -2.21668868e-01  3.59756535e-01\n",
      "  -4.66369031e-01]\n",
      " [-3.26132628e-01 -2.07164328e-01  5.30591506e-02 -3.69053747e-01\n",
      "   2.76914216e-01 -1.41673377e-01  3.02640661e-01  4.59762295e-01\n",
      "  -2.11961247e-02  1.29061125e-01 -9.84694573e-02  4.04669797e-02\n",
      "  -5.32483880e-01]\n",
      " [-3.68610222e-01 -2.49025357e-01  1.32391030e-01  1.42016088e-01\n",
      "   6.66275572e-02 -1.75842384e-01 -1.30540143e-01 -1.10827548e-01\n",
      "   2.38089559e-01  1.87646268e-01  1.91205783e-02  7.42229543e-01\n",
      "   2.37835283e-01]\n",
      " [-2.96696514e-01  3.80229423e-01 -7.06502178e-02 -1.67682173e-01\n",
      "   1.28029045e-01 -1.38018388e-01 -8.11335043e-04 -5.60817288e-03\n",
      "  -5.17278463e-01  1.21112574e-02 -5.42532072e-01  3.87395209e-02\n",
      "   3.67763359e-01]]\n"
     ]
    }
   ],
   "source": [
    "import numpy as np\n",
    "cov_mat = np.cov(X_train_std.T)\n",
    "eigen_vals, eigen_vecs = np.linalg.eig(cov_mat)\n",
    "\n",
    "print('\\nEigenvalues \\n%s' % eigen_vals)\n",
    "print('\\nEigenvectors \\n%s' % eigen_vecs)"
   ]
  },
  {
   "cell_type": "markdown",
   "id": "7de066be-7a52-4a49-b09a-919012ce9fe5",
   "metadata": {},
   "source": [
    "### 5. 전체 분산에서 eigenvalue에 따라 설명하는 분산 비율 구하기"
   ]
  },
  {
   "cell_type": "code",
   "execution_count": 7,
   "id": "cb22b1b5-3f4a-4b55-a8f2-6ee992fff420",
   "metadata": {},
   "outputs": [],
   "source": [
    "tot = sum(eigen_vals)\n",
    "var_exp = [(i / tot) for i in sorted(eigen_vals, reverse=True)]\n",
    "cum_var_exp = np.cumsum(var_exp)"
   ]
  },
  {
   "cell_type": "code",
   "execution_count": 28,
   "id": "ceee5b01-7c7d-48ac-8a47-a7a1fa99dde6",
   "metadata": {
    "scrolled": true
   },
   "outputs": [
    {
     "data": {
      "image/png": "[encoded data removed]",
      "text/plain": [
       "<Figure size 640x480 with 1 Axes>"
      ]
     },
     "metadata": {},
     "output_type": "display_data"
    }
   ],
   "source": [
    "import matplotlib.pyplot as plt\n",
    "\n",
    "\n",
    "plt.bar(range(1, 14), var_exp, alpha=0.5, align='center',\n",
    "        label='individual explained variance')\n",
    "plt.step(range(1, 14), cum_var_exp, where='mid',\n",
    "         label='cumulative explained variance')\n",
    "plt.ylabel('Explained variance ratio')\n",
    "plt.xlabel('Principal component index')\n",
    "plt.legend(loc='best')\n",
    "plt.tight_layout()\n",
    "plt.show()"
   ]
  },
  {
   "cell_type": "markdown",
   "id": "9e0efd0f-25ea-4a25-937b-2cb158d98b23",
   "metadata": {},
   "source": [
    "### 6. Feature Transformation (새로운 좌표 구하기)"
   ]
  },
  {
   "cell_type": "code",
   "execution_count": 9,
   "id": "185101c8-efff-4e6f-8327-5dcdb89b02cd",
   "metadata": {},
   "outputs": [],
   "source": [
    "# Make a list of (eigenvalue, eigenvector) tuples\n",
    "eigen_pairs = [(np.abs(eigen_vals[i]), eigen_vecs[:, i])\n",
    "               for i in range(len(eigen_vals))]\n",
    "\n",
    "# Sort the (eigenvalue, eigenvector) tuples from high to low\n",
    "eigen_pairs.sort(key=lambda k: k[0], reverse=True)"
   ]
  },
  {
   "cell_type": "code",
   "execution_count": 10,
   "id": "85c7288f-c94f-4231-88ad-c20785b9cf1a",
   "metadata": {},
   "outputs": [
    {
     "data": {
      "text/plain": [
       "[(4.842745315655896,\n",
       "  array([-0.13724218,  0.24724326, -0.02545159,  0.20694508, -0.15436582,\n",
       "         -0.39376952, -0.41735106,  0.30572896, -0.30668347,  0.07554066,\n",
       "         -0.32613263, -0.36861022, -0.29669651])),\n",
       " (2.4160245870352295,\n",
       "  array([ 0.50303478,  0.16487119,  0.24456476, -0.11352904,  0.28974518,\n",
       "          0.05080104, -0.02287338,  0.09048885,  0.00835233,  0.54977581,\n",
       "         -0.20716433, -0.24902536,  0.38022942])),\n",
       " (1.548458248820353,\n",
       "  array([-0.13774873,  0.09615039,  0.67777567,  0.62504055,  0.19613548,\n",
       "          0.14031057,  0.11705386,  0.13121778,  0.0304309 , -0.07992997,\n",
       "          0.05305915,  0.13239103, -0.07065022])),\n",
       " (0.9612043774977376,\n",
       "  array([-0.0032961 ,  0.56264669, -0.10897711,  0.0338187 , -0.36751107,\n",
       "          0.24024513,  0.1870533 , -0.02292622,  0.49626233,  0.10648294,\n",
       "         -0.36905375,  0.14201609, -0.16768217])),\n",
       " (0.8416616104578413,\n",
       "  array([ 0.29062523, -0.08953787,  0.16083499, -0.05158734, -0.67648707,\n",
       "          0.11851114,  0.10710035,  0.50758161, -0.20163462, -0.00573607,\n",
       "          0.27691422,  0.06662756,  0.12802904])),\n",
       " (0.662063404038304,\n",
       "  array([-2.99096847e-01, -6.27036396e-01, -3.89128239e-04,  4.05836452e-02,\n",
       "         -6.57772614e-02,  5.89776247e-02,  3.01103180e-02,  2.71728086e-01,\n",
       "          4.39997519e-01,  4.11743459e-01, -1.41673377e-01, -1.75842384e-01,\n",
       "         -1.38018388e-01])),\n",
       " (0.5182847213561954,\n",
       "  array([-0.07905293,  0.27400201, -0.13232805, -0.2239991 ,  0.40526897,\n",
       "          0.03474194, -0.04178357,  0.63114569,  0.32312277, -0.26908262,\n",
       "          0.30264066, -0.13054014, -0.00081134])),\n",
       " (0.3465037664128671,\n",
       "  array([ 0.36817641,  0.01257758, -0.17757818,  0.44059211, -0.1166175 ,\n",
       "         -0.35019213, -0.21871818, -0.19712942,  0.43305587,  0.06684118,\n",
       "          0.45976229, -0.11082755, -0.00560817])),\n",
       " (0.31313680047208897,\n",
       "  array([ 0.39837702, -0.11045823, -0.38249686,  0.24337385,  0.25898236,\n",
       "          0.34231286,  0.03612316,  0.17143688, -0.24437021,  0.15551492,\n",
       "         -0.02119612,  0.23808956, -0.51727846])),\n",
       " (0.21357214660527343,\n",
       "  array([ 0.37463888, -0.1374056 ,  0.46158303, -0.41895399,  0.01004706,\n",
       "         -0.22125424, -0.04175136, -0.08875695,  0.19992186, -0.22166887,\n",
       "         -0.09846946,  0.01912058, -0.54253207])),\n",
       " (0.18086130479496612,\n",
       "  array([ 0.26283426, -0.26676921, -0.11554255,  0.19948341,  0.02890188,\n",
       "         -0.06638686, -0.21334908,  0.18639128,  0.16808299, -0.46636903,\n",
       "         -0.53248388,  0.23783528,  0.36776336])),\n",
       " (0.15362835006711023,\n",
       "  array([-0.12783451,  0.08064016,  0.01679249, -0.11084566,  0.07938796,\n",
       "         -0.49145931, -0.0503074 ,  0.17532803, -0.00367596,  0.35975654,\n",
       "          0.04046698,  0.74222954,  0.03873952])),\n",
       " (0.10754642369670976,\n",
       "  array([-0.09448698,  0.02636524,  0.14274751, -0.13048578, -0.06760808,\n",
       "          0.45991766, -0.81458395, -0.09574809,  0.06724689,  0.08733362,\n",
       "          0.12906113,  0.18764627,  0.01211126]))]"
      ]
     },
     "execution_count": 10,
     "metadata": {},
     "output_type": "execute_result"
    }
   ],
   "source": [
    "eigen_pairs"
   ]
  },
  {
   "cell_type": "code",
   "execution_count": 11,
   "id": "d9a271aa-01f6-46bb-8e2b-b57cc9ce0f77",
   "metadata": {},
   "outputs": [
    {
     "name": "stdout",
     "output_type": "stream",
     "text": [
      "Matrix W:\n",
      " [[-0.13724218  0.50303478]\n",
      " [ 0.24724326  0.16487119]\n",
      " [-0.02545159  0.24456476]\n",
      " [ 0.20694508 -0.11352904]\n",
      " [-0.15436582  0.28974518]\n",
      " [-0.39376952  0.05080104]\n",
      " [-0.41735106 -0.02287338]\n",
      " [ 0.30572896  0.09048885]\n",
      " [-0.30668347  0.00835233]\n",
      " [ 0.07554066  0.54977581]\n",
      " [-0.32613263 -0.20716433]\n",
      " [-0.36861022 -0.24902536]\n",
      " [-0.29669651  0.38022942]]\n"
     ]
    }
   ],
   "source": [
    "w = np.hstack((eigen_pairs[0][1][:, np.newaxis],\n",
    "               eigen_pairs[1][1][:, np.newaxis]))\n",
    "print('Matrix W:\\n', w)"
   ]
  },
  {
   "cell_type": "code",
   "execution_count": 12,
   "id": "c0ec0dca-c735-453d-aa91-b23b4ecc5d5e",
   "metadata": {},
   "outputs": [
    {
     "data": {
      "text/plain": [
       "array([[-0.13724218],\n",
       "       [ 0.24724326],\n",
       "       [-0.02545159],\n",
       "       [ 0.20694508],\n",
       "       [-0.15436582],\n",
       "       [-0.39376952],\n",
       "       [-0.41735106],\n",
       "       [ 0.30572896],\n",
       "       [-0.30668347],\n",
       "       [ 0.07554066],\n",
       "       [-0.32613263],\n",
       "       [-0.36861022],\n",
       "       [-0.29669651]])"
      ]
     },
     "execution_count": 12,
     "metadata": {},
     "output_type": "execute_result"
    }
   ],
   "source": [
    "eigen_pairs[0][1][:, np.newaxis]"
   ]
  },
  {
   "cell_type": "code",
   "execution_count": 13,
   "id": "9e78843b-ea59-4aa0-b132-05719c288e3f",
   "metadata": {},
   "outputs": [
    {
     "data": {
      "text/plain": [
       "array([[ 0.50303478],\n",
       "       [ 0.16487119],\n",
       "       [ 0.24456476],\n",
       "       [-0.11352904],\n",
       "       [ 0.28974518],\n",
       "       [ 0.05080104],\n",
       "       [-0.02287338],\n",
       "       [ 0.09048885],\n",
       "       [ 0.00835233],\n",
       "       [ 0.54977581],\n",
       "       [-0.20716433],\n",
       "       [-0.24902536],\n",
       "       [ 0.38022942]])"
      ]
     },
     "execution_count": 13,
     "metadata": {},
     "output_type": "execute_result"
    }
   ],
   "source": [
    "eigen_pairs[1][1][:, np.newaxis]"
   ]
  },
  {
   "cell_type": "code",
   "execution_count": 14,
   "id": "bc9284a4-7f80-40fc-8c5f-31e35e0aa45a",
   "metadata": {},
   "outputs": [
    {
     "data": {
      "text/plain": [
       "array([2.38299011, 0.45458499])"
      ]
     },
     "execution_count": 14,
     "metadata": {},
     "output_type": "execute_result"
    }
   ],
   "source": [
    "X_train_std[0].dot(w) # 13차원을 2차원으로 축소"
   ]
  },
  {
   "cell_type": "code",
   "execution_count": 15,
   "id": "0286df0f-226d-4fed-afa3-b717333f40e2",
   "metadata": {},
   "outputs": [
    {
     "data": {
      "image/png": "[encoded data removed]",
      "text/plain": [
       "<Figure size 640x480 with 1 Axes>"
      ]
     },
     "metadata": {},
     "output_type": "display_data"
    }
   ],
   "source": [
    "X_train_pca = X_train_std.dot(w)\n",
    "colors = ['r', 'b', 'g']\n",
    "markers = ['s', 'x', 'o']\n",
    "\n",
    "for l, c, m in zip(np.unique(y_train), colors, markers):\n",
    "    plt.scatter(X_train_pca[y_train == l, 0], \n",
    "                X_train_pca[y_train == l, 1], \n",
    "                c=c, label=l, marker=m)\n",
    "\n",
    "plt.xlabel('PC 1')\n",
    "plt.ylabel('PC 2')\n",
    "plt.legend(loc='lower left')\n",
    "plt.tight_layout()\n",
    "plt.show()"
   ]
  },
  {
   "cell_type": "markdown",
   "id": "1c89aed5-fdeb-489c-b894-50cd4e1605b1",
   "metadata": {},
   "source": [
    "## Scikit-learn을 활용한 PCA"
   ]
  },
  {
   "cell_type": "markdown",
   "id": "6b3130b6-f725-4df1-b0cb-4d84bbaf4fa0",
   "metadata": {},
   "source": [
    "### 1. 모델 선언"
   ]
  },
  {
   "cell_type": "code",
   "execution_count": 16,
   "id": "e5e1a27b-2424-40e2-a3b4-a3cc04656185",
   "metadata": {},
   "outputs": [
    {
     "data": {
      "text/plain": [
       "array([0.36951469, 0.18434927, 0.11815159, 0.07334252, 0.06422108,\n",
       "       0.05051724, 0.03954654, 0.02643918, 0.02389319, 0.01629614,\n",
       "       0.01380021, 0.01172226, 0.00820609])"
      ]
     },
     "execution_count": 16,
     "metadata": {},
     "output_type": "execute_result"
    }
   ],
   "source": [
    "from sklearn.decomposition import PCA\n",
    "\n",
    "pca = PCA()\n",
    "X_train_pca = pca.fit_transform(X_train_std)\n",
    "pca.explained_variance_ratio_"
   ]
  },
  {
   "cell_type": "code",
   "execution_count": 17,
   "id": "019bd30e-68a7-4867-a53d-3bea0f874d4c",
   "metadata": {},
   "outputs": [
    {
     "data": {
      "image/png": "[encoded data removed]",
      "text/plain": [
       "<Figure size 640x480 with 1 Axes>"
      ]
     },
     "metadata": {},
     "output_type": "display_data"
    }
   ],
   "source": [
    "plt.bar(range(1, 14), pca.explained_variance_ratio_, alpha=0.5, align='center')\n",
    "plt.step(range(1, 14), np.cumsum(pca.explained_variance_ratio_), where='mid')\n",
    "plt.ylabel('Explained variance ratio')\n",
    "plt.xlabel('Principal components')\n",
    "\n",
    "plt.show()"
   ]
  },
  {
   "cell_type": "markdown",
   "id": "88d941d3-4162-4b68-ac03-628fe3225fdc",
   "metadata": {},
   "source": [
    "### 2. n_components를 정하면 원하는 차원 만큼의 component를 만들 수 있다."
   ]
  },
  {
   "cell_type": "code",
   "execution_count": 18,
   "id": "e5a1fd28-5d5a-4075-a5cc-96a06efba2b4",
   "metadata": {},
   "outputs": [],
   "source": [
    "pca = PCA(n_components=2)#정수: 축의 개수, 소수: 분산의 비율\n",
    "X_train_pca = pca.fit_transform(X_train_std)\n",
    "X_test_pca = pca.transform(X_test_std)"
   ]
  },
  {
   "cell_type": "code",
   "execution_count": 19,
   "id": "8992c478-feb7-4e78-949c-47dff83b2046",
   "metadata": {},
   "outputs": [
    {
     "data": {
      "image/png": "[encoded data removed]",
      "text/plain": [
       "<Figure size 640x480 with 1 Axes>"
      ]
     },
     "metadata": {},
     "output_type": "display_data"
    }
   ],
   "source": [
    "plt.scatter(X_train_pca[:, 0], X_train_pca[:, 1])\n",
    "plt.xlabel('PC 1')\n",
    "plt.ylabel('PC 2')\n",
    "plt.show()"
   ]
  },
  {
   "cell_type": "code",
   "execution_count": 20,
   "id": "1cf00999-b0fd-4dc2-ad39-0272e604aaf7",
   "metadata": {},
   "outputs": [],
   "source": [
    "from matplotlib.colors import ListedColormap\n",
    "\n",
    "def plot_decision_regions(X, y, classifier, resolution=0.02):\n",
    "\n",
    "    # setup marker generator and color map\n",
    "    markers = ('s', 'x', 'o', '^', 'v')\n",
    "    colors = ('red', 'blue', 'lightgreen', 'gray', 'cyan')\n",
    "    cmap = ListedColormap(colors[:len(np.unique(y))])\n",
    "\n",
    "    # plot the decision surface\n",
    "    x1_min, x1_max = X[:, 0].min() - 1, X[:, 0].max() + 1\n",
    "    x2_min, x2_max = X[:, 1].min() - 1, X[:, 1].max() + 1\n",
    "    xx1, xx2 = np.meshgrid(np.arange(x1_min, x1_max, resolution),\n",
    "                           np.arange(x2_min, x2_max, resolution))\n",
    "    Z = classifier.predict(np.array([xx1.ravel(), xx2.ravel()]).T)\n",
    "    Z = Z.reshape(xx1.shape)\n",
    "    plt.contourf(xx1, xx2, Z, alpha=0.4, cmap=cmap)\n",
    "    plt.xlim(xx1.min(), xx1.max())\n",
    "    plt.ylim(xx2.min(), xx2.max())\n",
    "\n",
    "    # plot class samples\n",
    "    for idx, cl in enumerate(np.unique(y)):\n",
    "        plt.scatter(x=X[y == cl, 0], \n",
    "                    y=X[y == cl, 1],\n",
    "                    alpha=0.6, \n",
    "                    c=cmap(idx),\n",
    "                    edgecolor='black',\n",
    "                    marker=markers[idx], \n",
    "                    label=cl)"
   ]
  },
  {
   "cell_type": "markdown",
   "id": "08131000-46f4-4077-8e26-bead0c0b1cb5",
   "metadata": {},
   "source": [
    "### 3. PCA 후 로지스틱 회귀해보기 "
   ]
  },
  {
   "cell_type": "code",
   "execution_count": 21,
   "id": "e80b509a-06f7-4899-b06d-1309739b3bb1",
   "metadata": {},
   "outputs": [],
   "source": [
    "from sklearn.linear_model import LogisticRegression\n",
    "\n",
    "pca = PCA(n_components=2)\n",
    "X_train_pca = pca.fit_transform(X_train_std)\n",
    "X_test_pca = pca.transform(X_test_std)\n",
    "\n",
    "lr = LogisticRegression()\n",
    "lr = lr.fit(X_train_pca, y_train)"
   ]
  },
  {
   "cell_type": "code",
   "execution_count": 22,
   "id": "7ac9733d-3d49-41a4-8c6a-4b7e20645daa",
   "metadata": {},
   "outputs": [
    {
     "name": "stderr",
     "output_type": "stream",
     "text": [
      "C:\\Users\\j2982\\AppData\\Local\\Temp\\ipykernel_16176\\442015021.py:23: UserWarning: *c* argument looks like a single numeric RGB or RGBA sequence, which should be avoided as value-mapping will have precedence in case its length matches with *x* & *y*.  Please use the *color* keyword-argument or provide a 2D array with a single row if you intend to specify the same RGB or RGBA value for all points.\n",
      "  plt.scatter(x=X[y == cl, 0],\n",
      "C:\\Users\\j2982\\AppData\\Local\\Temp\\ipykernel_16176\\442015021.py:23: UserWarning: You passed a edgecolor/edgecolors ('black') for an unfilled marker ('x').  Matplotlib is ignoring the edgecolor in favor of the facecolor.  This behavior may change in the future.\n",
      "  plt.scatter(x=X[y == cl, 0],\n"
     ]
    },
    {
     "data": {
      "image/png": "[encoded data removed]",
      "text/plain": [
       "<Figure size 640x480 with 1 Axes>"
      ]
     },
     "metadata": {},
     "output_type": "display_data"
    }
   ],
   "source": [
    "plot_decision_regions(X_train_pca, y_train, classifier=lr)\n",
    "plt.xlabel('PC 1')\n",
    "plt.ylabel('PC 2')\n",
    "plt.legend(loc='lower left')\n",
    "plt.tight_layout()\n",
    "plt.show()"
   ]
  },
  {
   "cell_type": "code",
   "execution_count": 23,
   "id": "6b072f79-c386-4c83-aaf1-3de6dd05847e",
   "metadata": {},
   "outputs": [
    {
     "name": "stderr",
     "output_type": "stream",
     "text": [
      "C:\\Users\\j2982\\AppData\\Local\\Temp\\ipykernel_16176\\442015021.py:23: UserWarning: *c* argument looks like a single numeric RGB or RGBA sequence, which should be avoided as value-mapping will have precedence in case its length matches with *x* & *y*.  Please use the *color* keyword-argument or provide a 2D array with a single row if you intend to specify the same RGB or RGBA value for all points.\n",
      "  plt.scatter(x=X[y == cl, 0],\n",
      "C:\\Users\\j2982\\AppData\\Local\\Temp\\ipykernel_16176\\442015021.py:23: UserWarning: You passed a edgecolor/edgecolors ('black') for an unfilled marker ('x').  Matplotlib is ignoring the edgecolor in favor of the facecolor.  This behavior may change in the future.\n",
      "  plt.scatter(x=X[y == cl, 0],\n"
     ]
    },
    {
     "data": {
      "image/png": "[encoded data removed]",
      "text/plain": [
       "<Figure size 640x480 with 1 Axes>"
      ]
     },
     "metadata": {},
     "output_type": "display_data"
    }
   ],
   "source": [
    "plot_decision_regions(X_test_pca, y_test, classifier=lr)\n",
    "plt.xlabel('PC 1')\n",
    "plt.ylabel('PC 2')\n",
    "plt.legend(loc='lower left')\n",
    "plt.tight_layout()\n",
    "plt.show()"
   ]
  },
  {
   "cell_type": "code",
   "execution_count": 24,
   "id": "cef22f23-d2e9-4053-8efa-6847f1d2d860",
   "metadata": {},
   "outputs": [
    {
     "data": {
      "text/plain": [
       "0.9259259259259259"
      ]
     },
     "execution_count": 24,
     "metadata": {},
     "output_type": "execute_result"
    }
   ],
   "source": [
    "from sklearn.metrics import accuracy_score\n",
    "accuracy_score(y_test,lr.predict(X_test_pca))"
   ]
  },
  {
   "cell_type": "code",
   "execution_count": 25,
   "id": "c19f4f70-8ce0-4204-a78b-36946f28a172",
   "metadata": {},
   "outputs": [],
   "source": [
    "lr_normal= LogisticRegression()\n",
    "lr_normal = lr_normal.fit(X_train_std, y_train)"
   ]
  },
  {
   "cell_type": "code",
   "execution_count": 26,
   "id": "611d21f7-883b-48b3-82a0-0f03d73826ff",
   "metadata": {},
   "outputs": [
    {
     "data": {
      "text/plain": [
       "1.0"
      ]
     },
     "execution_count": 26,
     "metadata": {},
     "output_type": "execute_result"
    }
   ],
   "source": [
    "accuracy_score(y_test,lr_normal.predict(X_test_std))"
   ]
  },
  {
   "cell_type": "code",
   "execution_count": 27,
   "id": "7beaffb8-b121-41df-9099-758907e0e9df",
   "metadata": {},
   "outputs": [
    {
     "name": "stdout",
     "output_type": "stream",
     "text": [
      "0.8703703703703703\n",
      "0.9259259259259259\n",
      "0.9259259259259259\n",
      "0.9259259259259259\n",
      "0.9444444444444444\n",
      "0.9814814814814815\n",
      "0.9814814814814815\n",
      "1.0\n",
      "1.0\n"
     ]
    }
   ],
   "source": [
    "for i in range(1,10):\n",
    "    pca = PCA(n_components=i)\n",
    "    X_train_pca = pca.fit_transform(X_train_std)\n",
    "    X_test_pca = pca.transform(X_test_std)\n",
    "    lr = LogisticRegression()\n",
    "    lr = lr.fit(X_train_pca, y_train)\n",
    "    print(accuracy_score(y_test,lr.predict(X_test_pca)))"
   ]
  }
 ],
 "metadata": {
  "kernelspec": {
   "display_name": "Python 3 (ipykernel)",
   "language": "python",
   "name": "python3"
  },
  "language_info": {
   "codemirror_mode": {
    "name": "ipython",
    "version": 3
   },
   "file_extension": ".py",
   "mimetype": "text/x-python",
   "name": "python",
   "nbconvert_exporter": "python",
   "pygments_lexer": "ipython3",
   "version": "3.11.5"
  }
 },
 "nbformat": 4,
 "nbformat_minor": 5
}
